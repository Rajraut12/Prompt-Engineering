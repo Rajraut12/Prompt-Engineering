{
  "nbformat": 4,
  "nbformat_minor": 0,
  "metadata": {
    "colab": {
      "provenance": [],
      "authorship_tag": "ABX9TyP0C26yHFulf2irdAsbhNzH",
      "include_colab_link": true
    },
    "kernelspec": {
      "name": "python3",
      "display_name": "Python 3"
    },
    "language_info": {
      "name": "python"
    }
  },
  "cells": [
    {
      "cell_type": "markdown",
      "metadata": {
        "id": "view-in-github",
        "colab_type": "text"
      },
      "source": [
        "<a href=\"https://colab.research.google.com/github/Rajraut12/Prompt-Engineering/blob/main/Untitled.ipynb\" target=\"_parent\"><img src=\"https://colab.research.google.com/assets/colab-badge.svg\" alt=\"Open In Colab\"/></a>"
      ]
    },
    {
      "cell_type": "markdown",
      "source": [
        "### Question 1: Chain-of-Thought Prompting\n",
        "Implement a Chain-of-Thought prompting system to solve word problems. Your system should\n",
        "break down the problem-solving process into steps and show its reasoning.\n",
        "Task:\n",
        "\n",
        "● Create a function that takes a word problem as input.\n",
        "\n",
        "● Use the OpenAI API or any other LLM API to generate a step-by-step solution.\n",
        "\n",
        "● The output should show each step of the reasoning process.\n",
        "\n",
        "● Test your function with at least two word problems of varying complexity.\n",
        "\n",
        "Example word problem: \"A baker has 150 eggs. If each cake requires 3 eggs and each cookie\n",
        "requires 2 eggs, how many cakes and cookies can the baker make if they want to use all the\n",
        "eggs and make an equal number of each?\"\n"
      ],
      "metadata": {
        "id": "m7y2O98FYlgr"
      }
    },
    {
      "cell_type": "code",
      "source": [
        "!pip install langchain groq\n",
        "!pip install langchain-groq groq"
      ],
      "metadata": {
        "colab": {
          "base_uri": "https://localhost:8080/"
        },
        "id": "Mtw-cuw_Ykzc",
        "outputId": "40067f77-1ae1-42be-e99c-97011b2a79a6"
      },
      "execution_count": 26,
      "outputs": [
        {
          "output_type": "stream",
          "name": "stdout",
          "text": [
            "Requirement already satisfied: langchain in /usr/local/lib/python3.10/dist-packages (0.2.14)\n",
            "Requirement already satisfied: groq in /usr/local/lib/python3.10/dist-packages (0.9.0)\n",
            "Requirement already satisfied: PyYAML>=5.3 in /usr/local/lib/python3.10/dist-packages (from langchain) (6.0.2)\n",
            "Requirement already satisfied: SQLAlchemy<3,>=1.4 in /usr/local/lib/python3.10/dist-packages (from langchain) (2.0.32)\n",
            "Requirement already satisfied: aiohttp<4.0.0,>=3.8.3 in /usr/local/lib/python3.10/dist-packages (from langchain) (3.10.5)\n",
            "Requirement already satisfied: async-timeout<5.0.0,>=4.0.0 in /usr/local/lib/python3.10/dist-packages (from langchain) (4.0.3)\n",
            "Requirement already satisfied: langchain-core<0.3.0,>=0.2.32 in /usr/local/lib/python3.10/dist-packages (from langchain) (0.2.34)\n",
            "Requirement already satisfied: langchain-text-splitters<0.3.0,>=0.2.0 in /usr/local/lib/python3.10/dist-packages (from langchain) (0.2.2)\n",
            "Requirement already satisfied: langsmith<0.2.0,>=0.1.17 in /usr/local/lib/python3.10/dist-packages (from langchain) (0.1.104)\n",
            "Requirement already satisfied: numpy<2,>=1 in /usr/local/lib/python3.10/dist-packages (from langchain) (1.26.4)\n",
            "Requirement already satisfied: pydantic<3,>=1 in /usr/local/lib/python3.10/dist-packages (from langchain) (2.8.2)\n",
            "Requirement already satisfied: requests<3,>=2 in /usr/local/lib/python3.10/dist-packages (from langchain) (2.32.3)\n",
            "Requirement already satisfied: tenacity!=8.4.0,<9.0.0,>=8.1.0 in /usr/local/lib/python3.10/dist-packages (from langchain) (8.5.0)\n",
            "Requirement already satisfied: anyio<5,>=3.5.0 in /usr/local/lib/python3.10/dist-packages (from groq) (3.7.1)\n",
            "Requirement already satisfied: distro<2,>=1.7.0 in /usr/lib/python3/dist-packages (from groq) (1.7.0)\n",
            "Requirement already satisfied: httpx<1,>=0.23.0 in /usr/local/lib/python3.10/dist-packages (from groq) (0.27.0)\n",
            "Requirement already satisfied: sniffio in /usr/local/lib/python3.10/dist-packages (from groq) (1.3.1)\n",
            "Requirement already satisfied: typing-extensions<5,>=4.7 in /usr/local/lib/python3.10/dist-packages (from groq) (4.12.2)\n",
            "Requirement already satisfied: aiohappyeyeballs>=2.3.0 in /usr/local/lib/python3.10/dist-packages (from aiohttp<4.0.0,>=3.8.3->langchain) (2.4.0)\n",
            "Requirement already satisfied: aiosignal>=1.1.2 in /usr/local/lib/python3.10/dist-packages (from aiohttp<4.0.0,>=3.8.3->langchain) (1.3.1)\n",
            "Requirement already satisfied: attrs>=17.3.0 in /usr/local/lib/python3.10/dist-packages (from aiohttp<4.0.0,>=3.8.3->langchain) (24.2.0)\n",
            "Requirement already satisfied: frozenlist>=1.1.1 in /usr/local/lib/python3.10/dist-packages (from aiohttp<4.0.0,>=3.8.3->langchain) (1.4.1)\n",
            "Requirement already satisfied: multidict<7.0,>=4.5 in /usr/local/lib/python3.10/dist-packages (from aiohttp<4.0.0,>=3.8.3->langchain) (6.0.5)\n",
            "Requirement already satisfied: yarl<2.0,>=1.0 in /usr/local/lib/python3.10/dist-packages (from aiohttp<4.0.0,>=3.8.3->langchain) (1.9.4)\n",
            "Requirement already satisfied: idna>=2.8 in /usr/local/lib/python3.10/dist-packages (from anyio<5,>=3.5.0->groq) (3.7)\n",
            "Requirement already satisfied: exceptiongroup in /usr/local/lib/python3.10/dist-packages (from anyio<5,>=3.5.0->groq) (1.2.2)\n",
            "Requirement already satisfied: certifi in /usr/local/lib/python3.10/dist-packages (from httpx<1,>=0.23.0->groq) (2024.7.4)\n",
            "Requirement already satisfied: httpcore==1.* in /usr/local/lib/python3.10/dist-packages (from httpx<1,>=0.23.0->groq) (1.0.5)\n",
            "Requirement already satisfied: h11<0.15,>=0.13 in /usr/local/lib/python3.10/dist-packages (from httpcore==1.*->httpx<1,>=0.23.0->groq) (0.14.0)\n",
            "Requirement already satisfied: jsonpatch<2.0,>=1.33 in /usr/local/lib/python3.10/dist-packages (from langchain-core<0.3.0,>=0.2.32->langchain) (1.33)\n",
            "Requirement already satisfied: packaging<25,>=23.2 in /usr/local/lib/python3.10/dist-packages (from langchain-core<0.3.0,>=0.2.32->langchain) (24.1)\n",
            "Requirement already satisfied: orjson<4.0.0,>=3.9.14 in /usr/local/lib/python3.10/dist-packages (from langsmith<0.2.0,>=0.1.17->langchain) (3.10.7)\n",
            "Requirement already satisfied: annotated-types>=0.4.0 in /usr/local/lib/python3.10/dist-packages (from pydantic<3,>=1->langchain) (0.7.0)\n",
            "Requirement already satisfied: pydantic-core==2.20.1 in /usr/local/lib/python3.10/dist-packages (from pydantic<3,>=1->langchain) (2.20.1)\n",
            "Requirement already satisfied: charset-normalizer<4,>=2 in /usr/local/lib/python3.10/dist-packages (from requests<3,>=2->langchain) (3.3.2)\n",
            "Requirement already satisfied: urllib3<3,>=1.21.1 in /usr/local/lib/python3.10/dist-packages (from requests<3,>=2->langchain) (2.0.7)\n",
            "Requirement already satisfied: greenlet!=0.4.17 in /usr/local/lib/python3.10/dist-packages (from SQLAlchemy<3,>=1.4->langchain) (3.0.3)\n",
            "Requirement already satisfied: jsonpointer>=1.9 in /usr/local/lib/python3.10/dist-packages (from jsonpatch<2.0,>=1.33->langchain-core<0.3.0,>=0.2.32->langchain) (3.0.0)\n",
            "Requirement already satisfied: langchain-groq in /usr/local/lib/python3.10/dist-packages (0.1.9)\n",
            "Requirement already satisfied: groq in /usr/local/lib/python3.10/dist-packages (0.9.0)\n",
            "Requirement already satisfied: langchain-core<0.3.0,>=0.2.26 in /usr/local/lib/python3.10/dist-packages (from langchain-groq) (0.2.34)\n",
            "Requirement already satisfied: anyio<5,>=3.5.0 in /usr/local/lib/python3.10/dist-packages (from groq) (3.7.1)\n",
            "Requirement already satisfied: distro<2,>=1.7.0 in /usr/lib/python3/dist-packages (from groq) (1.7.0)\n",
            "Requirement already satisfied: httpx<1,>=0.23.0 in /usr/local/lib/python3.10/dist-packages (from groq) (0.27.0)\n",
            "Requirement already satisfied: pydantic<3,>=1.9.0 in /usr/local/lib/python3.10/dist-packages (from groq) (2.8.2)\n",
            "Requirement already satisfied: sniffio in /usr/local/lib/python3.10/dist-packages (from groq) (1.3.1)\n",
            "Requirement already satisfied: typing-extensions<5,>=4.7 in /usr/local/lib/python3.10/dist-packages (from groq) (4.12.2)\n",
            "Requirement already satisfied: idna>=2.8 in /usr/local/lib/python3.10/dist-packages (from anyio<5,>=3.5.0->groq) (3.7)\n",
            "Requirement already satisfied: exceptiongroup in /usr/local/lib/python3.10/dist-packages (from anyio<5,>=3.5.0->groq) (1.2.2)\n",
            "Requirement already satisfied: certifi in /usr/local/lib/python3.10/dist-packages (from httpx<1,>=0.23.0->groq) (2024.7.4)\n",
            "Requirement already satisfied: httpcore==1.* in /usr/local/lib/python3.10/dist-packages (from httpx<1,>=0.23.0->groq) (1.0.5)\n",
            "Requirement already satisfied: h11<0.15,>=0.13 in /usr/local/lib/python3.10/dist-packages (from httpcore==1.*->httpx<1,>=0.23.0->groq) (0.14.0)\n",
            "Requirement already satisfied: PyYAML>=5.3 in /usr/local/lib/python3.10/dist-packages (from langchain-core<0.3.0,>=0.2.26->langchain-groq) (6.0.2)\n",
            "Requirement already satisfied: jsonpatch<2.0,>=1.33 in /usr/local/lib/python3.10/dist-packages (from langchain-core<0.3.0,>=0.2.26->langchain-groq) (1.33)\n",
            "Requirement already satisfied: langsmith<0.2.0,>=0.1.75 in /usr/local/lib/python3.10/dist-packages (from langchain-core<0.3.0,>=0.2.26->langchain-groq) (0.1.104)\n",
            "Requirement already satisfied: packaging<25,>=23.2 in /usr/local/lib/python3.10/dist-packages (from langchain-core<0.3.0,>=0.2.26->langchain-groq) (24.1)\n",
            "Requirement already satisfied: tenacity!=8.4.0,<9.0.0,>=8.1.0 in /usr/local/lib/python3.10/dist-packages (from langchain-core<0.3.0,>=0.2.26->langchain-groq) (8.5.0)\n",
            "Requirement already satisfied: annotated-types>=0.4.0 in /usr/local/lib/python3.10/dist-packages (from pydantic<3,>=1.9.0->groq) (0.7.0)\n",
            "Requirement already satisfied: pydantic-core==2.20.1 in /usr/local/lib/python3.10/dist-packages (from pydantic<3,>=1.9.0->groq) (2.20.1)\n",
            "Requirement already satisfied: jsonpointer>=1.9 in /usr/local/lib/python3.10/dist-packages (from jsonpatch<2.0,>=1.33->langchain-core<0.3.0,>=0.2.26->langchain-groq) (3.0.0)\n",
            "Requirement already satisfied: orjson<4.0.0,>=3.9.14 in /usr/local/lib/python3.10/dist-packages (from langsmith<0.2.0,>=0.1.75->langchain-core<0.3.0,>=0.2.26->langchain-groq) (3.10.7)\n",
            "Requirement already satisfied: requests<3,>=2 in /usr/local/lib/python3.10/dist-packages (from langsmith<0.2.0,>=0.1.75->langchain-core<0.3.0,>=0.2.26->langchain-groq) (2.32.3)\n",
            "Requirement already satisfied: charset-normalizer<4,>=2 in /usr/local/lib/python3.10/dist-packages (from requests<3,>=2->langsmith<0.2.0,>=0.1.75->langchain-core<0.3.0,>=0.2.26->langchain-groq) (3.3.2)\n",
            "Requirement already satisfied: urllib3<3,>=1.21.1 in /usr/local/lib/python3.10/dist-packages (from requests<3,>=2->langsmith<0.2.0,>=0.1.75->langchain-core<0.3.0,>=0.2.26->langchain-groq) (2.0.7)\n"
          ]
        }
      ]
    },
    {
      "cell_type": "code",
      "source": [
        "from langchain_groq import ChatGroq\n",
        "from langchain.chains import LLMChain\n",
        "from langchain.prompts import ChatPromptTemplate # Import ChatPromptTemplate\n",
        "from langchain_core.messages import HumanMessage, SystemMessage\n",
        "import os\n",
        "\n",
        "# Set your Groq API key\n",
        "os.environ[\"GROQ_API_KEY\"] = \"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\"\n",
        "\n",
        "# Initialize the Groq LLM\n",
        "llm = ChatGroq(model_name=\"mixtral-8x7b-32768\")\n",
        "\n",
        "# Example of a prompt without answers\n",
        "example = \"\"\"\n",
        "Question:A baker has 150 eggs. If each cake requires 3 eggs and each cookie requires 2 eggs, how many cakes and cookies can the baker make if they want to use all the eggs and make an equal number of each?\n",
        "\"\"\"\n",
        "\n",
        "# Create a HumanMessage with the example\n",
        "human_message = HumanMessage(content=example)\n",
        "\n",
        "# Create a SystemMessage to set the context\n",
        "system_message = SystemMessage(content=\"You are a helpful assistant. Solve the following problems step by step.\")\n",
        "\n",
        "# Combine the messages into a prompt template\n",
        "prompt_template = ChatPromptTemplate.from_messages([system_message, human_message]) # Use ChatPromptTemplate\n",
        "\n",
        "# Initialize the LLMChain with the prompt and the LLM\n",
        "chain = LLMChain(llm=llm, prompt=prompt_template)\n",
        "\n",
        "# Run the chain with an empty input since the prompt template includes everything needed\n",
        "response = chain.run({})\n",
        "\n",
        "print(f\"Response: {response}\")"
      ],
      "metadata": {
        "colab": {
          "base_uri": "https://localhost:8080/"
        },
        "id": "QDSOZWxmY1Zq",
        "outputId": "d14bcc85-e1e1-4a7c-e240-5de3345b9908"
      },
      "execution_count": 30,
      "outputs": [
        {
          "output_type": "stream",
          "name": "stdout",
          "text": [
            "Response: Let's solve this problem step by step:\n",
            "\n",
            "1. The baker has 150 eggs in total.\n",
            "2. Each cake requires 3 eggs and each cookie requires 2 eggs.\n",
            "3. The baker wants to make an equal number of cakes and cookies (let's denote the number of cakes and cookies as 'x').\n",
            "4. The total number of eggs used for cakes will be 3x, and the total number of eggs used for cookies will be 2x.\n",
            "5. Since the baker wants to use all the eggs, we need to find a number 'x' such that 3x + 2x = 150.\n",
            "6. Combining the terms gives us 5x = 150.\n",
            "7. Now, divide both sides by 5 to find the value of 'x': x = 150 / 5 = 30.\n",
            "8. So, the baker should make 30 cakes and 30 cookies.\n",
            "\n",
            "The answer is: The baker can make 30 cakes and 30 cookies.\n"
          ]
        }
      ]
    },
    {
      "cell_type": "markdown",
      "source": [
        "### Question 2: Prompt-chaining\n",
        "Develop a prompt-chaining system that generates a short story based on user input. The\n",
        "system should use multiple prompts in sequence, with each prompt building on the output of the\n",
        "previous one.\n",
        "Task:\n",
        "\n",
        "● Create a series of at least 3 prompts that will be chained together.\n",
        "\n",
        "● The first prompt should ask for a genre and main character.\n",
        "\n",
        "● Subsequent prompts should build on previous outputs to develop the plot and\n",
        "conclusion.\n",
        "\n",
        "● Implement the chaining logic to pass information between prompts.\n",
        "\n",
        "● Allow the user to input the initial genre and main character.\n",
        "\n",
        "● Output the final story generated through the chain."
      ],
      "metadata": {
        "id": "NcyLPjeoZNBY"
      }
    },
    {
      "cell_type": "code",
      "source": [
        "from langchain_groq import ChatGroq\n",
        "from langchain import PromptTemplate, LLMChain\n",
        "from langchain.chains import SimpleSequentialChain\n",
        "import os\n",
        "\n",
        "# Set your Groq API key\n",
        "os.environ[\"GROQ_API_KEY\"] = \"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\"\n",
        "\n",
        "# Initialize the Groq LLM\n",
        "llm = ChatGroq(model_name=\"mixtral-8x7b-32768\")\n",
        "\n",
        "# First prompt template: Write a short introduction about the topic\n",
        "first_prompt = PromptTemplate(\n",
        "    input_variables=[\"topic\"],\n",
        "    template=\"Write a short introduction about {topic}.\"\n",
        ")\n",
        "\n",
        "# Second prompt template: Suggest 3 key points based on the introduction\n",
        "second_prompt = PromptTemplate(\n",
        "    input_variables=[\"introduction\"],\n",
        "    template=\"Based on this introduction, suggest 3 key points to expand upon: {introduction}\"\n",
        ")\n",
        "\n",
        "# Third prompt template: Provide brief explanations for each of the key points\n",
        "third_prompt = PromptTemplate(\n",
        "    input_variables=[\"key_points\"],\n",
        "    template=\"For each of these key points, provide a brief explanation: {key_points}\"\n",
        ")\n",
        "# Create the chains\n",
        "chain_one = LLMChain(llm=llm, prompt=first_prompt)\n",
        "chain_two = LLMChain(llm=llm, prompt=second_prompt)\n",
        "chain_three = LLMChain(llm=llm, prompt=third_prompt)\n",
        "# Create the sequential chain to link the individual chains\n",
        "overall_chain = SimpleSequentialChain(\n",
        "    chains=[chain_one, chain_two, chain_three],\n",
        "    verbose=True\n",
        ")\n",
        "# Run the chain with a specific topic\n",
        "topic = \"Artificial Intelligence\"\n",
        "result = overall_chain.run(topic)\n",
        "# Print the final result\n",
        "print(result)"
      ],
      "metadata": {
        "colab": {
          "base_uri": "https://localhost:8080/"
        },
        "id": "AMitI-FhZI2C",
        "outputId": "9898a9f7-99dc-4c5c-e37b-5981baf03f4b"
      },
      "execution_count": 31,
      "outputs": [
        {
          "output_type": "stream",
          "name": "stdout",
          "text": [
            "\n",
            "\n",
            "\u001b[1m> Entering new SimpleSequentialChain chain...\u001b[0m\n",
            "\u001b[36;1m\u001b[1;3mArtificial Intelligence (AI) refers to the development of computer systems or software that can perform tasks that typically require human intelligence. These tasks include learning from experience, understanding and interpreting natural language, recognizing patterns, solving problems, making decisions, and even demonstrating creativity. AI can be categorized into two main types: narrow or weak AI, designed to perform a specific task, and general or strong AI, which can perform any intellectual task that a human being can do. AI has the potential to revolutionize various industries, from healthcare and education to transportation and entertainment, by automating processes, improving efficiency, and enhancing decision-making capabilities. However, it also raises ethical and societal concerns, such as job displacement, privacy, and bias, which need to be addressed as AI continues to evolve.\u001b[0m\n",
            "\u001b[33;1m\u001b[1;3m1. **Different types of AI and their applications:** Given the introduction's mention of narrow or weak AI and general or strong AI, it would be beneficial to expand on the differences between these two types. Narrow AI is designed to perform a specific task, such as voice recognition or image analysis, and it is currently the most prevalent form of AI. General AI, on the other hand, can perform any intellectual task that a human being can do, but this type of AI is still in the research and development stage. Providing examples of applications for each type of AI can help illustrate their potential impact on various industries.\n",
            "\n",
            "2. **Ethical and societal concerns:** The introduction briefly mentions some of the ethical and societal concerns associated with AI, such as job displacement, privacy, and bias. It would be useful to delve deeper into these issues, explaining how AI could lead to job displacement in certain sectors, the privacy risks associated with data collection and processing, and how AI algorithms can perpetuate and even exacerbate existing biases. Additionally, discussing potential strategies for addressing these concerns can help ensure that AI development remains ethical and responsible.\n",
            "\n",
            "3. **Regulatory landscape and standards:** As AI continues to evolve and become more integrated into various aspects of society, it is crucial to establish appropriate regulations and standards to guide its development and deployment. This section could explore existing regulations and initiatives, both at the national and international levels, and discuss the challenges in creating a comprehensive regulatory framework for AI. Addressing the need for standardization in areas such as data management, algorithmic transparency, and accountability can help ensure that AI is developed and used responsibly and ethically.\u001b[0m\n",
            "\u001b[38;5;200m\u001b[1;3m1. **Different types of AI and their applications:**\n",
            "   - Narrow AI, also known as weak AI, is designed to perform specific tasks and functions. These AI systems are trained for particular use cases, such as image recognition, natural language processing, or autonomous driving. They excel in their designated tasks but lack the ability to transfer knowledge or adapt to new, unrelated tasks. Examples of narrow AI applications include Siri (voice recognition), Google's search algorithms (information retrieval), and autonomous vehicles (navigation and decision-making).\n",
            "   - General AI, or strong AI, is a hypothetical form of artificial intelligence that can perform any intellectual task a human can do. General AI systems would possess human-like cognitive abilities, including problem-solving, learning, adaptation, and creativity. Although general AI does not yet exist, it holds significant potential for transforming various industries, including healthcare, education, and research.\n",
            "\n",
            "2. **Ethical and societal concerns:**\n",
            "   - Job displacement: AI has the potential to automate various jobs, potentially leading to job displacement in certain sectors. While AI may create new job opportunities, the transition can be challenging for workers in industries with high automation potential, such as manufacturing and transportation.\n",
            "   - Privacy: AI systems often rely on large datasets for training and operation, raising privacy concerns. Data collection, storage, and processing can expose sensitive information and create vulnerabilities to data breaches. Ensuring robust data protection measures and promoting transparency around data usage are crucial to addressing these concerns.\n",
            "   - Bias: AI algorithms can perpetuate and even exacerbate existing biases present in the data they are trained on. This can lead to unfair or discriminatory outcomes in areas such as hiring, lending, and law enforcement. Mitigating bias requires careful consideration of data sources, algorithmic design, and ongoing monitoring and evaluation.\n",
            "\n",
            "3. **Regulatory landscape and standards:**\n",
            "   - Existing regulations and initiatives: At the national level, countries such as the United States, the United Kingdom, and the European Union have begun developing AI-related regulations and guidelines. These initiatives often focus on promoting ethical AI development, ensuring data privacy, and addressing potential risks associated with AI.\n",
            "   - Challenges in creating a comprehensive regulatory framework: Developing a comprehensive regulatory framework for AI is challenging due to the rapidly evolving nature of the technology and its wide-ranging applications. Balancing innovation, ethical considerations, and regulatory oversight requires ongoing collaboration between governments, industry stakeholders, and the public.\n",
            "   - Standardization: Standardization in areas such as data management, algorithmic transparency, and accountability can help ensure responsible and ethical AI development. Establishing clear guidelines and best practices can promote trust, mitigate risks, and facilitate the integration of AI into various aspects of society.\u001b[0m\n",
            "\n",
            "\u001b[1m> Finished chain.\u001b[0m\n",
            "1. **Different types of AI and their applications:**\n",
            "   - Narrow AI, also known as weak AI, is designed to perform specific tasks and functions. These AI systems are trained for particular use cases, such as image recognition, natural language processing, or autonomous driving. They excel in their designated tasks but lack the ability to transfer knowledge or adapt to new, unrelated tasks. Examples of narrow AI applications include Siri (voice recognition), Google's search algorithms (information retrieval), and autonomous vehicles (navigation and decision-making).\n",
            "   - General AI, or strong AI, is a hypothetical form of artificial intelligence that can perform any intellectual task a human can do. General AI systems would possess human-like cognitive abilities, including problem-solving, learning, adaptation, and creativity. Although general AI does not yet exist, it holds significant potential for transforming various industries, including healthcare, education, and research.\n",
            "\n",
            "2. **Ethical and societal concerns:**\n",
            "   - Job displacement: AI has the potential to automate various jobs, potentially leading to job displacement in certain sectors. While AI may create new job opportunities, the transition can be challenging for workers in industries with high automation potential, such as manufacturing and transportation.\n",
            "   - Privacy: AI systems often rely on large datasets for training and operation, raising privacy concerns. Data collection, storage, and processing can expose sensitive information and create vulnerabilities to data breaches. Ensuring robust data protection measures and promoting transparency around data usage are crucial to addressing these concerns.\n",
            "   - Bias: AI algorithms can perpetuate and even exacerbate existing biases present in the data they are trained on. This can lead to unfair or discriminatory outcomes in areas such as hiring, lending, and law enforcement. Mitigating bias requires careful consideration of data sources, algorithmic design, and ongoing monitoring and evaluation.\n",
            "\n",
            "3. **Regulatory landscape and standards:**\n",
            "   - Existing regulations and initiatives: At the national level, countries such as the United States, the United Kingdom, and the European Union have begun developing AI-related regulations and guidelines. These initiatives often focus on promoting ethical AI development, ensuring data privacy, and addressing potential risks associated with AI.\n",
            "   - Challenges in creating a comprehensive regulatory framework: Developing a comprehensive regulatory framework for AI is challenging due to the rapidly evolving nature of the technology and its wide-ranging applications. Balancing innovation, ethical considerations, and regulatory oversight requires ongoing collaboration between governments, industry stakeholders, and the public.\n",
            "   - Standardization: Standardization in areas such as data management, algorithmic transparency, and accountability can help ensure responsible and ethical AI development. Establishing clear guidelines and best practices can promote trust, mitigate risks, and facilitate the integration of AI into various aspects of society.\n"
          ]
        }
      ]
    },
    {
      "cell_type": "markdown",
      "source": [
        "### Question 3: Tree-of-Thought Prompting\n",
        "Implement a Tree-of-Thought prompting system to solve a complex problem. The system should\n",
        "explore multiple paths of reasoning and select the most promising one.\n",
        "Task:\n",
        "\n",
        "● Create a function that takes a complex problem as input.\n",
        "\n",
        "● Generate at least 3 different initial approaches to solving the problem.\n",
        "\n",
        "● For each approach, develop 2-3 possible next steps.\n",
        "\n",
        "● Implement a method to evaluate the promise of each path.\n",
        "\n",
        "● Select the most promising path and generate a final solution.\n",
        "\n",
        "● Test your system with the following problem:\n",
        "\n",
        "Problem: \"Design a sustainable urban transportation system for a city of 1 million people.\n",
        "Consider factors such as environmental impact, cost-effectiveness, and accessibility for all\n",
        "residents."
      ],
      "metadata": {
        "id": "qErfpXttZblZ"
      }
    },
    {
      "cell_type": "code",
      "source": [
        "from langchain_groq import ChatGroq\n",
        "from langchain import PromptTemplate, LLMChain\n",
        "from langchain.prompts import FewShotPromptTemplate\n",
        "import os\n",
        "\n",
        "# Set your Groq API key\n",
        "os.environ[\"GROQ_API_KEY\"] = \"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\"\n",
        "\n",
        "# Initialize the Groq LLM\n",
        "llm = ChatGroq(model_name=\"mixtral-8x7b-32768\")\n",
        "\n",
        "# Define the base prompt template\n",
        "base_prompt = PromptTemplate(\n",
        "    input_variables=[\"question\", \"thoughts\"],\n",
        "    template=\"\"\"Question: {question}\n",
        "\n",
        "Let's approach this step-by-step:\n",
        "\n",
        "{thoughts}\n",
        "\n",
        "Based on these thoughts, what is the final answer?\n",
        "\"\"\"\n",
        ")\n",
        "\n",
        "# Define examples for few-shot learning\n",
        "examples = [\n",
        "    {\n",
        "        \"question\": \"What is 15 + 27?\",\n",
        "        \"thoughts\": \"\"\"1) First, let's break down the numbers: 15 is 10 + 5, and 27 is 20 + 7.\n",
        "2) We can rearrange these: (10 + 20) + (5 + 7)\n",
        "3) 10 + 20 = 30\n",
        "4) 5 + 7 = 12\n",
        "5) So now we have 30 + 12\n",
        "6) 30 + 12 = 42\"\"\"\n",
        "    },\n",
        "    {\n",
        "        \"question\": \"How many months have 28 days?\",\n",
        "        \"thoughts\": \"\"\"1) Let's think about this carefully. At first, we might think only February has 28 days.\n",
        "2) However, the question is asking how many months HAVE 28 days, not how many ONLY have 28 days.\n",
        "3) Every month has at least 28 days.\n",
        "4) Therefore, all 12 months have at least 28 days.\"\"\"\n",
        "    }\n",
        "]\n",
        "\n",
        "# Create the few-shot prompt template\n",
        "few_shot_prompt = FewShotPromptTemplate(\n",
        "    examples=examples,\n",
        "    example_prompt=PromptTemplate(\n",
        "        input_variables=[\"question\", \"thoughts\"],\n",
        "        template=\"Question: {question}\\n\\nThoughts: {thoughts}\"\n",
        "    ),\n",
        "    prefix=\"Here are some examples of breaking down questions into steps:\",\n",
        "    suffix=\"Now, let's approach a new question:\\n\\n{input}\",\n",
        "    input_variables=[\"input\"],\n",
        "    example_separator=\"\\n\\n\"\n",
        ")\n",
        "\n",
        "# Combine the few-shot examples with the base prompt\n",
        "final_prompt = few_shot_prompt.format(\n",
        "    input=base_prompt.template\n",
        ")\n",
        "\n",
        "# Create the LLMChain\n",
        "chain = LLMChain(\n",
        "    llm=llm,\n",
        "    prompt=PromptTemplate(\n",
        "        input_variables=[\"question\", \"thoughts\"],\n",
        "        template=final_prompt\n",
        "    )\n",
        ")\n",
        "\n",
        "# Use the chain\n",
        "question = \"If a train travels 120 km in 2 hours, what is its average speed in km/h?\"\n",
        "thoughts = \"Let's break this down step by step:\"\n",
        "result = chain.run({\"question\": question, \"thoughts\": thoughts})\n",
        "\n",
        "print(result)"
      ],
      "metadata": {
        "colab": {
          "base_uri": "https://localhost:8080/"
        },
        "id": "oxx0ECpYZzv0",
        "outputId": "37549707-56b9-49f5-c3a7-8e950b0e3ded"
      },
      "execution_count": 32,
      "outputs": [
        {
          "output_type": "stream",
          "name": "stdout",
          "text": [
            "To find the average speed of the train, we can use the formula:\n",
            "\n",
            "Average Speed = Distance / Time\n",
            "\n",
            "In this case, the distance traveled by the train is 120 km, and the time taken is 2 hours. So,\n",
            "\n",
            "Average Speed = 120 km / 2 hours\n",
            "Average Speed = 60 km/h\n",
            "\n",
            "So, the average speed of the train is 60 kilometers per hour.\n"
          ]
        }
      ]
    }
  ]
}